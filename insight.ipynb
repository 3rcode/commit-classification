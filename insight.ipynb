{
 "cells": [
  {
   "cell_type": "code",
   "execution_count": 9,
   "metadata": {},
   "outputs": [
    {
     "name": "stdout",
     "output_type": "stream",
     "text": [
      "0\n"
     ]
    }
   ],
   "source": [
    "import os\n",
    "import pandas as pd\n",
    "path = \"/var/data/CG/new_try/valid_repos.csv\"\n",
    "repos = pd.read_csv(path)\n",
    "cnt = 0\n",
    "for repo in repos[\"Repo\"]:\n",
    "    folder = repo.replace('/', '_')\n",
    "    if not os.path.exists(f\"/var/data/CG/new_try/repos/{folder}\"):\n",
    "        print(repo)\n",
    "        cnt += 1\n",
    "print(cnt)"
   ]
  },
  {
   "cell_type": "code",
   "execution_count": 2,
   "metadata": {},
   "outputs": [],
   "source": [
    "num_rn = []\n",
    "num_pr = []\n",
    "num_issue = []\n",
    "num_commit = []\n",
    "for repo in repos[\"Repo\"]:\n",
    "    folder = os.path.join(ROOTDIR, \"data\", repo.replace('/', '_'))\n",
    "    rn = pd.read_csv(os.path.join(folder, \"RN_info.csv\"))\n",
    "    pr = pd.read_csv(os.path.join(folder, \"PR_info.csv\"))\n",
    "    issue = pd.read_csv(os.path.join(folder, \"issue_info.csv\"))\n",
    "    commit = pd.read_csv(os.path.join(folder, \"commit.csv\"))\n",
    "    num_rn.append(len(rn))\n",
    "    num_pr.append(len(pr))\n",
    "    num_issue.append(len(issue))\n",
    "    num_commit.append(len(commit))\n"
   ]
  },
  {
   "cell_type": "code",
   "execution_count": 3,
   "metadata": {},
   "outputs": [
    {
     "name": "stdout",
     "output_type": "stream",
     "text": [
      "                                 repo  # rn  # commit  # pr  # issue\n",
      "0             anilbeesetti/nextplayer    10       638     4       61\n",
      "1                       ublue-os/main    23       198     5       59\n",
      "2                   appwrite/appwrite    67     18815   141      591\n",
      "3               airbnb/lottie-android    46      1769     2       33\n",
      "4       refined-github/refined-github   119      3610     4      118\n",
      "5                       penpot/penpot    36     11260    10      275\n",
      "6   responsively-org/responsively-app    52      1938    21      175\n",
      "7                   airbnb/lottie-ios    58      1261     0       13\n",
      "8                   firezone/firezone   133      3209     6       72\n",
      "9                     twpayne/chezmoi   178      4455     5       32\n",
      "10                   laurent22/joplin   302     11665    20      357\n",
      "11                          wix/Detox   308      5505    12      216\n",
      "12           MetaMask/metamask-mobile   106     12058    91      709\n",
      "13                      get-alex/alex    33       386     1       20\n",
      "14                       p0deje/Maccy    51       562     1       25\n",
      "15                      timber/timber   142      7027    21       82\n",
      "16     wordpress-mobile/WordPress-iOS   449     75074    51     1241\n",
      "17                          atom/atom   538     38945    31      994\n",
      "18               microsoft/playwright   112     11737    19      689\n",
      "19  homebridge/homebridge-config-ui-x    98      2274     5       12\n",
      "20               sindresorhus/caprine   123       944     3      156\n",
      "21                      OnionUI/Onion    14      1045    17       63\n",
      "22                         utmapp/UTM   104      3019    11      611\n"
     ]
    }
   ],
   "source": [
    "data_info = pd.DataFrame({\"repo\": repos[\"Repo\"], \"# rn\": num_rn, \"# commit\": num_commit, \n",
    "                          \"# pr\": num_pr, \"# issue\": num_issue})\n",
    "print(data_info)"
   ]
  },
  {
   "cell_type": "code",
   "execution_count": 4,
   "metadata": {},
   "outputs": [
    {
     "name": "stdout",
     "output_type": "stream",
     "text": [
      "Toal release note: 3102\n",
      "Total commit: 217394\n",
      "Total pull request: 481\n",
      "Total issue: 6604\n"
     ]
    }
   ],
   "source": [
    "print(\"Toal release note:\", sum(data_info[\"# rn\"]))\n",
    "print(\"Total commit:\", sum(data_info[\"# commit\"]))\n",
    "print(\"Total pull request:\", sum(data_info[\"# pr\"]))\n",
    "print(\"Total issue:\", sum(data_info[\"# issue\"]))"
   ]
  }
 ],
 "metadata": {
  "kernelspec": {
   "display_name": "cg",
   "language": "python",
   "name": "python3"
  },
  "language_info": {
   "codemirror_mode": {
    "name": "ipython",
    "version": 3
   },
   "file_extension": ".py",
   "mimetype": "text/x-python",
   "name": "python",
   "nbconvert_exporter": "python",
   "pygments_lexer": "ipython3",
   "version": "3.11.5"
  },
  "orig_nbformat": 4
 },
 "nbformat": 4,
 "nbformat_minor": 2
}
